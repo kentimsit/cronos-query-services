{
 "cells": [
  {
   "attachments": {},
   "cell_type": "markdown",
   "metadata": {},
   "source": [
    "# Unmarshal"
   ]
  },
  {
   "attachments": {},
   "cell_type": "markdown",
   "metadata": {},
   "source": [
    "Unmarshal (unmarshal.io) is a blockchain indexing service for developers.\n",
    "\n",
    "The main documentation covers the API service with key use cases such as:\n",
    "\n",
    "* Token balance by address\n",
    "* NFTs owned by address\n",
    "\n",
    "(see https://docs.unmarshal.io/)\n",
    "\n",
    "The newly launched Parser service (https://console.unmarshal.io/parser) offers a web UI to run SQL and GraphQL queries on smart contract events.\n",
    "\n"
   ]
  },
  {
   "attachments": {},
   "cell_type": "markdown",
   "metadata": {},
   "source": [
    "## Basic queries\n",
    "\n",
    "Here is an example of query to determine the NFTs owned by an address:"
   ]
  },
  {
   "cell_type": "code",
   "execution_count": null,
   "metadata": {},
   "outputs": [],
   "source": [
    "import os\n",
    "import requests\n",
    "import pprint\n",
    "import pandas\n",
    "from IPython.display import display\n",
    "from dotenv import load_dotenv  # poetry add python-dotenv\n",
    "load_dotenv(override=True)\n",
    "\n",
    "unmarshal_api_key = os.environ.get('UNMARSHAL_API_KEY')\n",
    "\n",
    "address = os.environ.get(\"EXAMPLE_WALLET_ADDRESS\")\n",
    "\n",
    "query = {\n",
    "    \"offset\": \"0\",\n",
    "    \"pageSize\": \"5\",\n",
    "    \"contract\": \"string\",\n",
    "    \"auth_key\": \"YOUR_API_KEY_HERE\"\n",
    "}\n",
    "\n",
    "api_response = requests.request(\n",
    "    method=\"get\",\n",
    "    url=\"https://api.unmarshal.com/v3/cronos/address/\" + address + \"/nft-assets\",\n",
    "    params={\n",
    "        \"offset\": \"0\",\n",
    "        \"pageSize\": \"20\",\n",
    "        \"auth_key\": unmarshal_api_key\n",
    "    })\n",
    "\n",
    "pprint.pprint(api_response.json())\n"
   ]
  }
 ],
 "metadata": {
  "kernelspec": {
   "display_name": "cronos-query-services-OhlMdv-Y-py3.10",
   "language": "python",
   "name": "python3"
  },
  "language_info": {
   "codemirror_mode": {
    "name": "ipython",
    "version": 3
   },
   "file_extension": ".py",
   "mimetype": "text/x-python",
   "name": "python",
   "nbconvert_exporter": "python",
   "pygments_lexer": "ipython3",
   "version": "3.10.2"
  },
  "orig_nbformat": 4,
  "vscode": {
   "interpreter": {
    "hash": "93a9c7eb3b9ae0dec795cf1d616bc38109fbd10695d1997247f9ee5878bd4e67"
   }
  }
 },
 "nbformat": 4,
 "nbformat_minor": 2
}
