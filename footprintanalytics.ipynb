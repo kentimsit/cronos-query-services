{
 "cells": [
  {
   "attachments": {},
   "cell_type": "markdown",
   "metadata": {},
   "source": [
    "# Footprint analytics"
   ]
  },
  {
   "attachments": {},
   "cell_type": "markdown",
   "metadata": {},
   "source": [
    "Footprint Analytics makes on-chain data available for SQL queries.\n",
    "\n",
    "The documentation is available at https://docs.footprint.network/docs/get-started\n",
    "\n",
    "To start a new query, click \"Create\" and select SQL query.\n",
    "\n",
    "For example, to query number of unique addresses sending transactions to VVS each week:\n",
    "\n",
    "```sql\n",
    "select\n",
    "concat(\n",
    "    cast(year(block_timestamp) as VARCHAR),\n",
    "    '.',\n",
    "    LPAD(cast(floor(cast(date_format(block_timestamp,'%j') as INT)/7) AS VARCHAR),2,'0')\n",
    "    ) as time_range,\n",
    "count(distinct from_address) as unique_wallet\n",
    "from cronos_transactions\n",
    "where lower(to_address) = lower('0x145863Eb42Cf62847A6Ca784e6416C1682b1b2Ae') and block_timestamp > timestamp '2022-01-01'\n",
    "group by 1\n",
    "order by 1 ASC\n",
    "```\n",
    "\n",
    "Note - The query language does not accept aliases of expressions in GROUP BY, use column numbers instead.\n"
   ]
  },
  {
   "attachments": {},
   "cell_type": "markdown",
   "metadata": {},
   "source": [
    "# Execute SQL query\n",
    "\n",
    "The SQL API is only available under the Scale or Enterprise plans."
   ]
  },
  {
   "cell_type": "code",
   "execution_count": null,
   "metadata": {},
   "outputs": [],
   "source": [
    "import os\n",
    "import requests\n",
    "import pprint\n",
    "from dotenv import load_dotenv  # poetry add python-dotenv\n",
    "load_dotenv()\n",
    "\n",
    "footprint_api_key = os.environ.get('FOOTPRINT_API_KEY')\n",
    "\n",
    "sql = \"\"\"\n",
    "select\n",
    "year(block_timestamp) as tx_year,\n",
    "week(block_timestamp) as tx_week,\n",
    "count(distinct from_address) as unique_wallets,\n",
    "to_address\n",
    "from cronos_transactions\n",
    "where lower(to_address) = lower('0x145863Eb42Cf62847A6Ca784e6416C1682b1b2Ae') and block_timestamp > timestamp '2022-01-01'\n",
    "group by 1, 2, 4\n",
    "order by 1 ASC, 2 ASC\n",
    "\"\"\"\n",
    "\n",
    "api_response = requests.request(\n",
    "    method=\"post\",\n",
    "    url=\"https://api.footprint.network/api/v1/native\",\n",
    "    headers={\n",
    "        \"accept\": \"application/json\",\n",
    "        \"content-type\": \"application/json\",\n",
    "        \"api-key\": footprint_api_key\n",
    "    },\n",
    "    json={\n",
    "        \"query\": sql\n",
    "    }\n",
    ")\n",
    "print(api_response.text)\n",
    "print(api_response.json())"
   ]
  }
 ],
 "metadata": {
  "kernelspec": {
   "display_name": "cronos-query-services-OhlMdv-Y-py3.10",
   "language": "python",
   "name": "python3"
  },
  "language_info": {
   "codemirror_mode": {
    "name": "ipython",
    "version": 3
   },
   "file_extension": ".py",
   "mimetype": "text/x-python",
   "name": "python",
   "nbconvert_exporter": "python",
   "pygments_lexer": "ipython3",
   "version": "3.10.9"
  },
  "orig_nbformat": 4,
  "vscode": {
   "interpreter": {
    "hash": "93a9c7eb3b9ae0dec795cf1d616bc38109fbd10695d1997247f9ee5878bd4e67"
   }
  }
 },
 "nbformat": 4,
 "nbformat_minor": 2
}
