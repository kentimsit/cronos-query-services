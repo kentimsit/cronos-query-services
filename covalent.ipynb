{
 "cells": [
  {
   "attachments": {},
   "cell_type": "markdown",
   "metadata": {},
   "source": [
    "# Covalent"
   ]
  },
  {
   "attachments": {},
   "cell_type": "markdown",
   "metadata": {},
   "source": [
    "Covalent offers two main products:\n",
    "\n",
    "* Unified API: common queries about accounts, transactions and transfers (https://www.covalenthq.com/docs/api/)\n",
    "* Increment: a interactive environment to create and run SQL queries (https://www.covalenthq.com/platform/#/increment/query/)\n",
    "\n",
    "The docs of Increment are available at: https://covalenthq.notion.site/Increment-s-Documentation-9630483356894f1486a076b59d17d23e\n",
    "\n",
    "For example, this Increment query returns the number of weekly active users on VVS:\n",
    "\n",
    "```sql\n",
    "SELECT\n",
    "  YEAR(signed_at) as tx_year,\n",
    "  WEEK(signed_at) as tx_week,\n",
    "  uniq(tx_sender) AS active_addresses\n",
    "        FROM blockchains.all_chains\n",
    "        WHERE chain_name = 'cronos_mainnet'\n",
    "        AND tx_recipient = unhex('145863Eb42Cf62847A6Ca784e6416C1682b1b2Ae')\n",
    "        GROUP BY tx_year, tx_week\n",
    "        ORDER BY tx_year asc, tx_week asc\n",
    "```\n",
    "\n",
    "Note that EVM addresses are provided without the 0x prefix.\n",
    "\n"
   ]
  }
 ],
 "metadata": {
  "kernelspec": {
   "display_name": "cronos-query-services-OhlMdv-Y-py3.10",
   "language": "python",
   "name": "python3"
  },
  "language_info": {
   "name": "python",
   "version": "3.10.2 (main, Jul 23 2022, 21:50:07) [Clang 13.1.6 (clang-1316.0.21.2.5)]"
  },
  "orig_nbformat": 4,
  "vscode": {
   "interpreter": {
    "hash": "93a9c7eb3b9ae0dec795cf1d616bc38109fbd10695d1997247f9ee5878bd4e67"
   }
  }
 },
 "nbformat": 4,
 "nbformat_minor": 2
}
