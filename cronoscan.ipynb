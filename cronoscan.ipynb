{
 "cells": [
  {
   "attachments": {},
   "cell_type": "markdown",
   "metadata": {},
   "source": [
    "# Cronoscan"
   ]
  },
  {
   "attachments": {},
   "cell_type": "markdown",
   "metadata": {},
   "source": [
    "Cronoscan is available for Cronos mainnet at https://cronoscan.com\n",
    "\n",
    "The API documentation is available at: https://cronoscan.com/apis. Free API keys can be obtained from the Cronoscan website.\n",
    "\n",
    "Among other use cases, the API can be used to query both normal and internal transactions by address. However this does not include IBC transactions. To retrieve IBC transactions, see https://github.com/kentimsit/cronos-track-ibc-events.\n",
    "\n",
    "Below are a few examples."
   ]
  },
  {
   "attachments": {},
   "cell_type": "markdown",
   "metadata": {},
   "source": [
    "## Normal transctions by address (from or to)"
   ]
  },
  {
   "cell_type": "code",
   "execution_count": null,
   "metadata": {},
   "outputs": [],
   "source": [
    "import os\n",
    "import requests\n",
    "import pprint\n",
    "from dotenv import load_dotenv  # poetry add python-dotenv\n",
    "load_dotenv()\n",
    "\n",
    "cronoscan_api_key = os.environ.get('CRONOSCAN_API_KEY')\n",
    "\n",
    "example_address = \"0x7de9ab1e6a60ac7a70ce96d1d95a0dfcecf7bfb7\"\n",
    "\n",
    "api_response = requests.request(\n",
    "    method='get',\n",
    "    url='https://api.cronoscan.com/api',\n",
    "    params={\n",
    "        \"module\": \"account\",\n",
    "        \"action\": \"txlist\",\n",
    "        \"address\": example_address,\n",
    "        \"startblock\": 1,\n",
    "        \"endblock\": 6500000,\n",
    "        \"offset\": 1,\n",
    "        \"sort\": \"asc\",\n",
    "        \"apikey\": cronoscan_api_key\n",
    "    }\n",
    ")\n",
    "print(\"\\nExample transaction\")\n",
    "pprint.pprint(api_response.json()['result'][0])"
   ]
  },
  {
   "attachments": {},
   "cell_type": "markdown",
   "metadata": {},
   "source": [
    "## Internal transctions by address (from or to)"
   ]
  },
  {
   "cell_type": "code",
   "execution_count": null,
   "metadata": {},
   "outputs": [],
   "source": [
    "\n",
    "api_response = requests.request(\n",
    "    method='get',\n",
    "    url='https://api.cronoscan.com/api',\n",
    "    params={\n",
    "        \"module\": \"account\",\n",
    "        \"action\": \"txlistinternal\",\n",
    "        \"address\": example_address,\n",
    "        \"startblock\": 1,\n",
    "        \"endblock\": 6500000,\n",
    "        \"offset\": 1,\n",
    "        \"sort\": \"asc\",\n",
    "        \"apikey\": cronoscan_api_key\n",
    "    }\n",
    ")\n",
    "print(\"\\nExample transaction\")\n",
    "pprint.pprint(api_response.json()['result'][0])"
   ]
  }
 ],
 "metadata": {
  "kernelspec": {
   "display_name": "cronos-query-services-OhlMdv-Y-py3.10",
   "language": "python",
   "name": "python3"
  },
  "language_info": {
   "codemirror_mode": {
    "name": "ipython",
    "version": 3
   },
   "file_extension": ".py",
   "mimetype": "text/x-python",
   "name": "python",
   "nbconvert_exporter": "python",
   "pygments_lexer": "ipython3",
   "version": "3.10.2 (main, Jul 23 2022, 21:50:07) [Clang 13.1.6 (clang-1316.0.21.2.5)]"
  },
  "orig_nbformat": 4,
  "vscode": {
   "interpreter": {
    "hash": "93a9c7eb3b9ae0dec795cf1d616bc38109fbd10695d1997247f9ee5878bd4e67"
   }
  }
 },
 "nbformat": 4,
 "nbformat_minor": 2
}
