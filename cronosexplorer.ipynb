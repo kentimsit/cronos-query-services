{
 "cells": [
  {
   "attachments": {},
   "cell_type": "markdown",
   "metadata": {},
   "source": [
    "# Cronos Explorer"
   ]
  },
  {
   "attachments": {},
   "cell_type": "markdown",
   "metadata": {},
   "source": [
    "The cronos.org/explorer is based on Blockscout.\n",
    "\n",
    "You can visit the online explorer at https://cronos.org/explorer for mainnet, and https://cronos.org/explorer/testnet3 for testnet.\n",
    "\n",
    "The API documentation is at https://cronos.org/explorer/api-docs\n",
    "\n",
    "The API can be used to query transactions, lists of tokens owned by an address, lists of token transfers associated to an address, and many other use cases. However, note that internal transactions are currently not indexed by cronos.org/explorer.\n",
    "\n",
    "Below are a few examples."
   ]
  },
  {
   "attachments": {},
   "cell_type": "markdown",
   "metadata": {},
   "source": [
    "## Normal transactions per address (from or to)"
   ]
  },
  {
   "cell_type": "code",
   "execution_count": null,
   "metadata": {},
   "outputs": [],
   "source": [
    "import os\n",
    "import requests\n",
    "import pprint\n",
    "from dotenv import load_dotenv  # poetry add python-dotenv\n",
    "load_dotenv()\n",
    "\n",
    "example_address = \"0x7de9ab1e6a60ac7a70ce96d1d95a0dfcecf7bfb7\"\n",
    "block_start = 6000000\n",
    "block_end = 6050000\n",
    "\n",
    "# Normal transactions from or to address\n",
    "api_response = requests.request(\n",
    "    method='get',\n",
    "    url='https://cronos.org/explorer/api',\n",
    "    params={\n",
    "        \"module\": \"account\",\n",
    "        \"action\": \"txlist\",\n",
    "        \"address\": example_address,\n",
    "        \"startblock\": block_start,\n",
    "        \"endblock\": block_end,\n",
    "        \"page\": 1,\n",
    "        \"offset\": 0,\n",
    "        \"sort\": \"asc\",\n",
    "    }\n",
    ")\n",
    "\n",
    "data = api_response.json()['result']\n",
    "print(\"Example of transaction\")\n",
    "pprint.pprint(data[0])\n",
    "\n"
   ]
  },
  {
   "attachments": {},
   "cell_type": "markdown",
   "metadata": {},
   "source": [
    "## Get list of tokens owned by address"
   ]
  },
  {
   "cell_type": "code",
   "execution_count": null,
   "metadata": {},
   "outputs": [],
   "source": [
    "example_address = \"0x2657Fc3Df7B647073c887C96c46EA42ec34ea2B3\"\n",
    "\n",
    "api_response = requests.request(\n",
    "    method='get',\n",
    "    url='https://cronos.org/explorer/api',\n",
    "    params={\n",
    "        \"module\": \"account\",\n",
    "        \"action\": \"tokenlist\",\n",
    "        \"address\": example_address,\n",
    "    }\n",
    ")\n",
    "\n",
    "data = api_response.json()['result']\n",
    "print(\"Example of transaction\")\n",
    "pprint.pprint(data)\n",
    "\n"
   ]
  },
  {
   "attachments": {},
   "cell_type": "markdown",
   "metadata": {},
   "source": [
    "## Get list of token transfers by address"
   ]
  },
  {
   "cell_type": "code",
   "execution_count": null,
   "metadata": {},
   "outputs": [],
   "source": [
    "example_address = \"0xDbEb0AD9A61BF2A4dA665DDfacB5352346ACEcF8\"\n",
    "block_start = 6553150\n",
    "block_end = 6553950\n",
    "\n",
    "api_response = requests.request(\n",
    "    method='get',\n",
    "    url='https://cronos.org/explorer/api',\n",
    "    params={\n",
    "        \"module\": \"account\",\n",
    "        \"action\": \"tokentx\",\n",
    "        \"address\": example_address,\n",
    "        \"startblock\": block_start,\n",
    "        \"endblock\": block_end,\n",
    "        \"page\": 1,\n",
    "        \"offset\": 0,\n",
    "        \"sort\": \"asc\",\n",
    "    }\n",
    ")\n",
    "\n",
    "data = api_response.json()['result']\n",
    "print(\"Example of transaction\")\n",
    "pprint.pprint(data[0])\n",
    "\n"
   ]
  }
 ],
 "metadata": {
  "kernelspec": {
   "display_name": "cronos-query-services-OhlMdv-Y-py3.10",
   "language": "python",
   "name": "python3"
  },
  "language_info": {
   "codemirror_mode": {
    "name": "ipython",
    "version": 3
   },
   "file_extension": ".py",
   "mimetype": "text/x-python",
   "name": "python",
   "nbconvert_exporter": "python",
   "pygments_lexer": "ipython3",
   "version": "3.10.2 (main, Jul 23 2022, 21:50:07) [Clang 13.1.6 (clang-1316.0.21.2.5)]"
  },
  "orig_nbformat": 4,
  "vscode": {
   "interpreter": {
    "hash": "93a9c7eb3b9ae0dec795cf1d616bc38109fbd10695d1997247f9ee5878bd4e67"
   }
  }
 },
 "nbformat": 4,
 "nbformat_minor": 2
}
