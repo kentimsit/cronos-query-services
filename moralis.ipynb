{
 "cells": [
  {
   "attachments": {},
   "cell_type": "markdown",
   "metadata": {},
   "source": [
    "# Moralis"
   ]
  },
  {
   "attachments": {},
   "cell_type": "markdown",
   "metadata": {},
   "source": [
    "Moralis is an API service particularly suited to Web3 game developers.\n",
    "\n",
    "Its Web3 APIs provide access to key blockchain data such as:\n",
    "\n",
    "* Tokens owned by an address\n",
    "* NFTs owned by an address\n",
    "* Historical data\n",
    "\n",
    "The API docs are published at: https://docs.moralis.io/web3-data-api"
   ]
  },
  {
   "cell_type": "markdown",
   "metadata": {},
   "source": [
    "## Basic query example(s)\n",
    "\n",
    "Here is an example of query to determine the NFTs owned by an address:"
   ]
  },
  {
   "cell_type": "code",
   "execution_count": null,
   "metadata": {},
   "outputs": [],
   "source": [
    "import os\n",
    "import requests\n",
    "import pprint\n",
    "import pandas\n",
    "from IPython.display import display\n",
    "from dotenv import load_dotenv  # poetry add python-dotenv\n",
    "load_dotenv(override=True)\n",
    "\n",
    "moralis_api_key = os.environ.get('MORALIS_API_KEY')\n",
    "\n",
    "address = os.environ.get(\"EXAMPLE_WALLET_ADDRESS\")\n",
    "\n",
    "api_response = requests.request(\n",
    "    method=\"get\",\n",
    "    url=\"https://deep-index.moralis.io/api/v2/\" + address + \"/nft?chain=cronos&format=decimal\",\n",
    "    headers={\n",
    "        'X-API-Key': moralis_api_key\n",
    "    })\n",
    "\n",
    "pprint.pprint(api_response.json())\n"
   ]
  }
 ],
 "metadata": {
  "kernelspec": {
   "display_name": "cronos-query-services-OhlMdv-Y-py3.10",
   "language": "python",
   "name": "python3"
  },
  "language_info": {
   "codemirror_mode": {
    "name": "ipython",
    "version": 3
   },
   "file_extension": ".py",
   "mimetype": "text/x-python",
   "name": "python",
   "nbconvert_exporter": "python",
   "pygments_lexer": "ipython3",
   "version": "3.10.2"
  },
  "orig_nbformat": 4,
  "vscode": {
   "interpreter": {
    "hash": "93a9c7eb3b9ae0dec795cf1d616bc38109fbd10695d1997247f9ee5878bd4e67"
   }
  }
 },
 "nbformat": 4,
 "nbformat_minor": 2
}
