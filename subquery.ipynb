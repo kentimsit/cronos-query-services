{
 "cells": [
  {
   "attachments": {},
   "cell_type": "markdown",
   "metadata": {},
   "source": [
    "# Subquery\n",
    "\n",
    "THIS PAGE IS WORK IN PROGRESS\n"
   ]
  },
  {
   "attachments": {},
   "cell_type": "markdown",
   "metadata": {},
   "source": [
    "Subquery Network is an alternative to The Graph. \n",
    "\n",
    "Product documentation is available at: https://academy.subquery.network/\n",
    "\n",
    "Here is a short getting started guide to use the Subquery Network integration of Cronos chain: https://academy.subquery.network/quickstart/quickstart_chains/cosmos-cronos.html. The code used by that tutorial can be found here: https://github.com/deverka/cronos_crow_token_transfers.\n",
    "\n",
    "# Create a new project\n",
    "\n",
    "See here: https://academy.subquery.network/quickstart/quickstart.html\n",
    "\n",
    "We have used `subql init` to create the `subquery-project` project inside this directory.\n",
    "\n",
    "As part of the quick start installation script, choose Cosmos, then Cronos, then `cronos-evm-starter-via-eth`. Press enter to keep the default RPC endpoint (you can change it later) and the other configuration variables, which you can change by editing the /subquery directory yourself. You can then `cd` into the project directory and run `npm install`. \n",
    "\n",
    "# Configure project to track VVS token transfers\n",
    "\n",
    "See here: https://academy.subquery.network/quickstart/quickstart_chains/cosmos-cronos.html\n",
    "\n",
    "and here: https://github.com/deverka/cronos_crow_token_transfers/tree/main/eth\n",
    "\n",
    "to see instructions on how to update the following files in this order:\n",
    "\n",
    "* The GraphQL Schema in schema.graphql.\n",
    "* The Project Manifest in project.yaml.\n",
    "* The Mapping functions in src/mappings/ directory.\n",
    "\n",
    "In this repository, we are configuring the project in order to track ERC20 transfers of the VVS token (https://cronoscan.com/token/0x2d03bece6747adc00e1a131bba1469c15fd11e03).\n",
    "\n",
    "See the corresponding files in the /subquery directory for details.\n",
    "\n",
    "You can also refer to The Graph's documentation for ideas and inspiration: https://thegraph.com/docs/en/.\n",
    "\n",
    "# Build the project\n",
    "\n",
    "```\n",
    "npm run-script start:docker\n",
    "```\n",
    "\n",
    "# Query project locally\n",
    "\n",
    "Open your browser and head to http://localhost:3000.\n",
    "\n",
    "```\n",
    "{\n",
    "  query {\n",
    "    transfers(first: 5) {\n",
    "      nodes {\n",
    "        id\n",
    "        to\n",
    "        from\n",
    "        tokenId\n",
    "      }\n",
    "    }\n",
    "  }\n",
    "}\n",
    "\n",
    "```"
   ]
  }
 ],
 "metadata": {
  "kernelspec": {
   "display_name": "cronos-query-services-OhlMdv-Y-py3.10",
   "language": "python",
   "name": "python3"
  },
  "language_info": {
   "name": "python",
   "version": "3.10.2 (main, Jul 23 2022, 21:50:07) [Clang 13.1.6 (clang-1316.0.21.2.5)]"
  },
  "orig_nbformat": 4,
  "vscode": {
   "interpreter": {
    "hash": "93a9c7eb3b9ae0dec795cf1d616bc38109fbd10695d1997247f9ee5878bd4e67"
   }
  }
 },
 "nbformat": 4,
 "nbformat_minor": 2
}
