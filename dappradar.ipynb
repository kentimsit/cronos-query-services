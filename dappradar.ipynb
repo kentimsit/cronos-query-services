{
 "cells": [
  {
   "attachments": {},
   "cell_type": "markdown",
   "metadata": {},
   "source": [
    "# Dappradar"
   ]
  },
  {
   "attachments": {},
   "cell_type": "markdown",
   "metadata": {},
   "source": [
    "Dappradar (https://dappradar.com/) aggregates dapp data across multiple chains. They recently launched an API service at https://api-portal.dappradar.com/home.\n",
    "\n",
    "The API docs are at: https://api-docs.dappradar.com/"
   ]
  },
  {
   "attachments": {},
   "cell_type": "markdown",
   "metadata": {},
   "source": [
    "# Get list of Dapps on Cronos chain"
   ]
  },
  {
   "cell_type": "code",
   "execution_count": null,
   "metadata": {},
   "outputs": [],
   "source": [
    "# To install dependencies: pip install -r requirements.txt\n",
    "import os\n",
    "import requests\n",
    "import json\n",
    "import time\n",
    "from dotenv import load_dotenv\n",
    "load_dotenv(override=True)\n",
    "\n",
    "dappradar_url = os.environ.get('DAPPRADAR_URL')\n",
    "dappradar_api_key = os.environ.get('DAPPRADAR_API_KEY')\n",
    "\n",
    "headers = {\n",
    "    'X-BLOBR-KEY': dappradar_api_key,\n",
    "}\n",
    "\n",
    "def get_list_of_dapps():\n",
    "    current_page = 1\n",
    "    number_pages = 1\n",
    "    res = []\n",
    "    while current_page <= number_pages:\n",
    "        api_response = requests.request(\n",
    "            method=\"get\",\n",
    "            url=f\"{dappradar_url}/dapps\",\n",
    "            headers=headers,\n",
    "            params={\n",
    "                'chain': 'cronos',\n",
    "                'page': current_page,\n",
    "            }\n",
    "        )\n",
    "        if api_response.status_code != 200:\n",
    "            raise Exception(\n",
    "                \"Request returned an error: {} {}\".format(\n",
    "                    api_response.status_code, api_response.text\n",
    "                )\n",
    "            )\n",
    "        res = res + api_response.json()['results']\n",
    "        number_pages = api_response.json()['pageCount']\n",
    "        print(\"Downloaded page {} of {}...\".format(current_page, number_pages))\n",
    "        current_page += 1\n",
    "        if current_page <= number_pages:\n",
    "            time.sleep(2)\n",
    "    return res\n",
    "\n",
    "list_of_dapps = get_list_of_dapps()\n",
    "print(\"\\nDownloaded {} dapps\".format(len(list_of_dapps)))\n",
    "print(\"\\nExample dapp:\")\n",
    "print(json.dumps(list_of_dapps[0], indent=4, sort_keys=True))\n",
    "with open('./outputs/dappradar_output.json', 'w') as f:\n",
    "    f.write(json.dumps(list_of_dapps, indent=4, sort_keys=True))\n"
   ]
  },
  {
   "attachments": {},
   "cell_type": "markdown",
   "metadata": {},
   "source": [
    "# Find dapp ID based on partial text string"
   ]
  },
  {
   "cell_type": "code",
   "execution_count": null,
   "metadata": {},
   "outputs": [],
   "source": [
    "def find_dappid(dapp_name: str, list_of_dapps):\n",
    "    res = []\n",
    "    for item in list_of_dapps:\n",
    "        if dapp_name.lower() in item['name'].lower():\n",
    "            res.append([item['name'], item['dappId']])\n",
    "    return res\n",
    "\n",
    "print(\"Searching for VVS dapp ID...\")\n",
    "print(json.dumps(find_dappid('VVS', list_of_dapps), indent=4, sort_keys=True))"
   ]
  },
  {
   "attachments": {},
   "cell_type": "markdown",
   "metadata": {},
   "source": [
    "# Get dapp data\n",
    "\n",
    "This endpoint returns data (users, transactions, volume, balance) from a single dapp that can be seen on the single dapp page. You need to input the dappId, as well as the timeframe and chains the data should be retrieved from. The dappId can be obtained by going through the paginated list, or more convenient for a single dapp by taking it from the dapp's about page (Example: https://dappradar.com/cronos/defi/vvs-finance/about)."
   ]
  },
  {
   "cell_type": "code",
   "execution_count": null,
   "metadata": {},
   "outputs": [],
   "source": [
    "def get_dapp_data(dapp_id: int):\n",
    "    api_response = requests.request(\n",
    "        method=\"get\",\n",
    "        url=f\"{dappradar_url}/dapps/{dapp_id}\",\n",
    "        headers=headers,\n",
    "        params={\n",
    "            'chain': 'cronos',\n",
    "            'range': '30d' # Can be 24h, 7d or 30d\n",
    "        }\n",
    "    )\n",
    "    if api_response.status_code != 200:\n",
    "        raise Exception(\n",
    "            \"Request returned an error: {} {}\".format(\n",
    "                api_response.status_code, api_response.text\n",
    "            )\n",
    "        )\n",
    "    return api_response.json()['results']\n",
    "\n",
    "print(\"Example dapp data:\")\n",
    "dapp_data = get_dapp_data(13220)\n",
    "print(json.dumps(dapp_data, indent=4, sort_keys=True))"
   ]
  }
 ],
 "metadata": {
  "kernelspec": {
   "display_name": "venv_3_10_9",
   "language": "python",
   "name": "python3"
  },
  "language_info": {
   "codemirror_mode": {
    "name": "ipython",
    "version": 3
   },
   "file_extension": ".py",
   "mimetype": "text/x-python",
   "name": "python",
   "nbconvert_exporter": "python",
   "pygments_lexer": "ipython3",
   "version": "3.10.9"
  },
  "orig_nbformat": 4
 },
 "nbformat": 4,
 "nbformat_minor": 2
}
